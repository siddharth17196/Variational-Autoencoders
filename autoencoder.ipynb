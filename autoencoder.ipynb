{
  "nbformat": 4,
  "nbformat_minor": 0,
  "metadata": {
    "colab": {
      "name": "autoencoder.ipynb",
      "provenance": [],
      "collapsed_sections": [
        "oAqMX1_x5nxA",
        "Hij14tCK5SR3",
        "HGnwhCwHQ9rK",
        "SEXDT6qw5bpb",
        "-a4LL5mq5kjj"
      ]
    },
    "kernelspec": {
      "name": "python3",
      "display_name": "Python 3"
    },
    "accelerator": "GPU"
  },
  "cells": [
    {
      "cell_type": "markdown",
      "metadata": {
        "id": "oAqMX1_x5nxA",
        "colab_type": "text"
      },
      "source": [
        "# IMPORTS"
      ]
    },
    {
      "cell_type": "code",
      "metadata": {
        "id": "KasOBgSRmuoh",
        "colab_type": "code",
        "colab": {}
      },
      "source": [
        "import numpy as np\n",
        "import pandas as pd\n",
        "from torch.autograd import Variable\n",
        "import torch\n",
        "import torchvision\n",
        "import matplotlib.pyplot as plt\n",
        "import torch.nn as nn\n",
        "import torch.nn.functional as F\n",
        "import torchvision.transforms as transforms\n",
        "from torch.utils.data import Dataset, DataLoader\n",
        "import torch.optim as optim\n",
        "import torchvision.datasets as datasets\n",
        "from torchvision.datasets import MNIST\n",
        "from torchvision.utils import save_image\n",
        "from matplotlib import pyplot as plt\n",
        "import seaborn as sns\n",
        "from sklearn.manifold import TSNE\n",
        "from sklearn.metrics import plot_confusion_matrix\n",
        "from sklearn.metrics import confusion_matrix\n",
        "from sklearn.metrics import recall_score\n",
        "from sklearn.metrics import precision_score\n",
        "from sklearn.metrics import f1_score\n",
        "from sklearn.svm import SVC"
      ],
      "execution_count": 0,
      "outputs": []
    },
    {
      "cell_type": "markdown",
      "metadata": {
        "id": "Hij14tCK5SR3",
        "colab_type": "text"
      },
      "source": [
        "# VAE"
      ]
    },
    {
      "cell_type": "code",
      "metadata": {
        "id": "HrPFry9MG_j-",
        "colab_type": "code",
        "colab": {}
      },
      "source": [
        "class vae(nn.Module):\n",
        "    def __init__(self):\n",
        "        super(vae, self).__init__()\n",
        "        \n",
        "        self.fc1 = nn.Linear(784, 300)\n",
        "        # self.fc2 = nn.Linear(500, 300)\n",
        "        self.fcm = nn.Linear(300, 20)\n",
        "        self.fcs = nn.Linear(300, 20)\n",
        "        self.fc3 = nn.Linear(20, 300)\n",
        "        # self.fc4 = nn.Linear(300, 500)\n",
        "        self.fc5 = nn.Linear(300, 784)\n",
        "\n",
        "    def encoder(self, x):\n",
        "        x = torch.relu(self.fc1(x))\n",
        "        # x = torch.relu(self.fc2(x))\n",
        "        mean = torch.relu(self.fcm(x))\n",
        "        log_std = torch.relu(self.fcs(x))\n",
        "        return mean, log_std\n",
        "    \n",
        "    def reparam(self, mean, log_std):\n",
        "        std = log_std.mul(0.5).exp_()\n",
        "        eps = torch.cuda.FloatTensor(std.size()).normal_()\n",
        "        eps = Variable(eps)\n",
        "        dist_z = eps.mul(std).add_(mean)\n",
        "        # dist_z = torch.add(dist_z, mean)\n",
        "        return dist_z\n",
        "\n",
        "    def decoder(self, z):\n",
        "        z = torch.relu(self.fc3(z))\n",
        "        # z = torch.relu(self.fc4(z))\n",
        "        z = torch.sigmoid(self.fc5(z))\n",
        "        return z\n",
        "\n",
        "    def get_latent_dis(self, x):    # returns the latent features\n",
        "        mean, log_std = self.encoder(x)\n",
        "        z = self.reparam(mean, log_std)\n",
        "        return z\n",
        "    \n",
        "    def forward(self, x):\n",
        "        mean, log_std = self.encoder(x)\n",
        "        z = self.reparam(mean, log_std)\n",
        "        x1 = self.decoder(z)\n",
        "        return x1, mean, log_std\n",
        "\n",
        "model = vae().cuda()\n",
        "print(model)"
      ],
      "execution_count": 0,
      "outputs": []
    },
    {
      "cell_type": "code",
      "metadata": {
        "id": "lgt9KbrjjIMi",
        "colab_type": "code",
        "colab": {}
      },
      "source": [
        "num_epochs = 200\n",
        "batch_size = 64\n",
        "optimizer = optim.Adam(model.parameters(), lr=1e-3)\n",
        "\n",
        "img_transform = transforms.Compose([\n",
        "    transforms.ToTensor(),\n",
        "    # transforms.Normalize((0.5,), (1.0,))\n",
        "])\n",
        "\n",
        "dataset = MNIST('./data', transform=img_transform, download=True)\n",
        "dataloader = DataLoader(dataset, shuffle=True)"
      ],
      "execution_count": 0,
      "outputs": []
    },
    {
      "cell_type": "code",
      "metadata": {
        "id": "uxQSE43Ujez3",
        "colab_type": "code",
        "colab": {}
      },
      "source": [
        "def to_img(x):\n",
        "    x = x.clamp(0, 1)\n",
        "    x = x.view(x.size(0), 1, 28, 28)\n",
        "    return x\n",
        "\n",
        "for epoch in range(num_epochs):\n",
        "    model.train()\n",
        "    train_loss = 0\n",
        "    for batch_idx, data in enumerate(dataloader):\n",
        "        img, _ = data\n",
        "        img = img.view(img.size(0), -1)\n",
        "        img = Variable(img)\n",
        "        if torch.cuda.is_available():\n",
        "            img = img.cuda()\n",
        "        optimizer.zero_grad()\n",
        "        recon_batch, mu, logvar = model(img)\n",
        "        loss = loss_func(recon_batch, img, mu, logvar)\n",
        "        loss.backward()\n",
        "        train_loss += loss.item()\n",
        "        optimizer.step()\n",
        "        if batch_idx % 100 == 0:\n",
        "            print(f\"Train Epoch: {epoch} [{batch_idx * len(img)}/{len(dataloader.dataset)}]\\tLoss: {loss.item() / len(img)}\")\n",
        "\n",
        "    print(f\"====> Epoch: {epoch} Average loss: {train_loss / len(dataloader.dataset)}\")\n",
        "    if epoch % 10 == 0:\n",
        "        save = to_img(recon_batch.cpu().data)\n",
        "        save_image(save, str(f\"{epoch}.png\"))"
      ],
      "execution_count": 0,
      "outputs": []
    },
    {
      "cell_type": "code",
      "metadata": {
        "id": "v-mjIz5mv6Bx",
        "colab_type": "code",
        "colab": {}
      },
      "source": [
        "# torch.save(model.state_dict(), './vae.pth')\n",
        "\n",
        "model = vae()\n",
        "model.load_state_dict(torch.load('./vae.pth'))\n",
        "model.cuda()\n",
        "model.eval()"
      ],
      "execution_count": 0,
      "outputs": []
    },
    {
      "cell_type": "markdown",
      "metadata": {
        "id": "HGnwhCwHQ9rK",
        "colab_type": "text"
      },
      "source": [
        "# Get New Image from Random Noise"
      ]
    },
    {
      "cell_type": "code",
      "metadata": {
        "id": "PlObGEd0OBYD",
        "colab_type": "code",
        "colab": {}
      },
      "source": [
        "r = torch.randn((64, 28,28))\n",
        "r = r.view(r.size(0), -1)\n",
        "r = Variable(r)\n",
        "img,_,_= model(r.cuda())\n",
        "save = to_img(img.cpu().data)\n",
        "save_image(save, 'r.png')"
      ],
      "execution_count": 0,
      "outputs": []
    },
    {
      "cell_type": "markdown",
      "metadata": {
        "id": "SEXDT6qw5bpb",
        "colab_type": "text"
      },
      "source": [
        "# PLOT\n"
      ]
    },
    {
      "cell_type": "code",
      "metadata": {
        "id": "AgoMxiUBPdnY",
        "colab_type": "code",
        "colab": {}
      },
      "source": [
        "l = []\n",
        "s = []\n",
        "for data, target in (dataloader):\n",
        "    img = data\n",
        "    img = img.view(img.size(0), -1)\n",
        "    img = Variable(img)\n",
        "    l.append(target.numpy()[0])\n",
        "    if torch.cuda.is_available():\n",
        "        img = img.cuda()\n",
        "    z = model.get_latent_dis(img)\n",
        "    s.append(z.cpu().data.numpy()[0])    "
      ],
      "execution_count": 0,
      "outputs": []
    },
    {
      "cell_type": "code",
      "metadata": {
        "id": "Y-Pc8g9Zux0g",
        "colab_type": "code",
        "colab": {}
      },
      "source": [
        "sns.set(rc={'figure.figsize':(11.7,8.27)})\n",
        "palette = sns.color_palette(\"bright\", 10)\n",
        "RS = 20150101\n",
        "X_embedded = TSNE(random_state=RS).fit_transform(s)\n",
        "sp = sns.scatterplot(X_embedded[:,0], X_embedded[:,1], hue=l, legend='full', palette=palette)\n",
        "fig = sp.get_figure()\n",
        "fig.savefig(\"./output.png\")"
      ],
      "execution_count": 0,
      "outputs": []
    },
    {
      "cell_type": "markdown",
      "metadata": {
        "id": "-a4LL5mq5kjj",
        "colab_type": "text"
      },
      "source": [
        "# SVM"
      ]
    },
    {
      "cell_type": "code",
      "metadata": {
        "id": "oIQb0k5U0Grc",
        "colab_type": "code",
        "colab": {}
      },
      "source": [
        "clf = SVC(gamma='auto')\n",
        "s = np.array(s)\n",
        "l = np.array(l)\n",
        "clf.fit(s, l)"
      ],
      "execution_count": 0,
      "outputs": []
    },
    {
      "cell_type": "code",
      "metadata": {
        "id": "BYP5QolMCBeT",
        "colab_type": "code",
        "colab": {}
      },
      "source": [
        "img_transform = transforms.Compose([\n",
        "    transforms.ToTensor(),\n",
        "    # transforms.Normalize((0.5,), (1.0,))\n",
        "])\n",
        "valset = datasets.MNIST('./testdata', download=True, train=False, transform=img_transform)\n",
        "valloader = DataLoader(valset, shuffle=True)"
      ],
      "execution_count": 0,
      "outputs": []
    },
    {
      "cell_type": "code",
      "metadata": {
        "id": "jcjVWXOEEg7j",
        "colab_type": "code",
        "colab": {}
      },
      "source": [
        "l_test = []\n",
        "s_test= []\n",
        "\n",
        "for data, target in (valloader):\n",
        "    img = data\n",
        "    img = img.view(img.size(0), -1)\n",
        "    img = Variable(img)\n",
        "    l_test.append(target.numpy()[0])\n",
        "    if torch.cuda.is_available():\n",
        "        img = img.cuda()\n",
        "    z = model.get_latent_dis(img)\n",
        "    s_test.append(z.cpu().data.numpy()[0])   \n",
        "\n",
        "s_test = np.array(s_test)\n",
        "l_test = np.array(l_test)"
      ],
      "execution_count": 0,
      "outputs": []
    },
    {
      "cell_type": "code",
      "metadata": {
        "id": "fo5BnTohGfb5",
        "colab_type": "code",
        "colab": {}
      },
      "source": [
        "accuracy = clf.score(s_test, l_test)\n",
        "y_pred = clf.predict(s_test)\n",
        "precision = precision_score(l_test, y_pred, average=None)\n",
        "recall = recall_score(l_test, y_pred,  average=None)\n",
        "f1 = f1_score(l_test, y_pred,  average=None)\n",
        "cm = confusion_matrix(l_test, y_pred)\n",
        "\n",
        "print(\"Accuracy\", accuracy)\n",
        "print(\"Precision\", precision)\n",
        "print(\"Recall\", recall)\n",
        "print(\"f_score\", f1)\n",
        "print(\"confusion matrix\", cm)"
      ],
      "execution_count": 0,
      "outputs": []
    },
    {
      "cell_type": "code",
      "metadata": {
        "id": "3CxtswRrJdE4",
        "colab_type": "code",
        "colab": {}
      },
      "source": [
        "# Plot confusion matrix and normalized confusion matrix\n",
        "\n",
        "class_names = [0,1,2,3,4,5,6,7,8,9]\n",
        "titles_options = [(\"Confusion matrix\", None),\n",
        "                  (\"Normalized confusion matrix\", 'true')]\n",
        "for title, normalize in titles_options:\n",
        "    disp = plot_confusion_matrix(clf, s_test, l_test,\n",
        "                                 display_labels=class_names,\n",
        "                                 cmap=plt.cm.Blues,\n",
        "                                 normalize=normalize)\n",
        "    disp.ax_.set_title(title)\n",
        "    print(title)\n",
        "    print(disp.confusion_matrix)\n",
        "    plt.savefig(str(f\"{title}.png\"))\n",
        "plt.show()"
      ],
      "execution_count": 0,
      "outputs": []
    }
  ]
}